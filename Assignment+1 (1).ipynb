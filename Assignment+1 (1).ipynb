{
 "cells": [
  {
   "cell_type": "markdown",
   "metadata": {},
   "source": [
    "---\n",
    "\n",
    "_You are currently looking at **version 1.1** of this notebook. To download notebooks and datafiles, as well as get help on Jupyter notebooks in the Coursera platform, visit the [Jupyter Notebook FAQ](https://www.coursera.org/learn/python-social-network-analysis/resources/yPcBs) course resource._\n",
    "\n",
    "---"
   ]
  },
  {
   "cell_type": "markdown",
   "metadata": {},
   "source": [
    "# Assignment 1 - Creating and Manipulating Graphs\n",
    "\n",
    "Eight employees at a small company were asked to choose 3 movies that they would most enjoy watching for the upcoming company movie night. These choices are stored in the file `Employee_Movie_Choices.txt`.\n",
    "\n",
    "A second file, `Employee_Relationships.txt`, has data on the relationships between different coworkers. \n",
    "\n",
    "The relationship score has value of `-100` (Enemies) to `+100` (Best Friends). A value of zero means the two employees haven't interacted or are indifferent.\n",
    "\n",
    "Both files are tab delimited."
   ]
  },
  {
   "cell_type": "code",
   "execution_count": 1,
   "metadata": {},
   "outputs": [
    {
     "name": "stdout",
     "output_type": "stream",
     "text": [
      "Andy\tClaude\t0\r\n",
      "Andy\tFrida\t20\r\n",
      "Andy\tGeorgia\t-10\r\n",
      "Andy\tJoan\t30\r\n",
      "Andy\tLee\t-10\r\n",
      "Andy\tPablo\t-10\r\n",
      "Andy\tVincent\t20\r\n",
      "Claude\tFrida\t0\r\n",
      "Claude\tGeorgia\t90\r\n",
      "Claude\tJoan\t0\r\n",
      "Claude\tLee\t0\r\n",
      "Claude\tPablo\t10\r\n",
      "Claude\tVincent\t0\r\n",
      "Frida\tGeorgia\t0\r\n",
      "Frida\tJoan\t0\r\n",
      "Frida\tLee\t0\r\n",
      "Frida\tPablo\t50\r\n",
      "Frida\tVincent\t60\r\n",
      "Georgia\tJoan\t0\r\n",
      "Georgia\tLee\t10\r\n",
      "Georgia\tPablo\t0\r\n",
      "Georgia\tVincent\t0\r\n",
      "Joan\tLee\t70\r\n",
      "Joan\tPablo\t0\r\n",
      "Joan\tVincent\t10\r\n",
      "Lee\tPablo\t0\r\n",
      "Lee\tVincent\t0\r\n",
      "Pablo\tVincent\t-20\r\n"
     ]
    }
   ],
   "source": [
    "import networkx as nx\n",
    "import pandas as pd\n",
    "import numpy as np\n",
    "from networkx.algorithms import bipartite\n",
    "\n",
    "\n",
    "# This is the set of employees\n",
    "employees = set(['Pablo',\n",
    "                 'Lee',\n",
    "                 'Georgia',\n",
    "                 'Vincent',\n",
    "                 'Andy',\n",
    "                 'Frida',\n",
    "                 'Joan',\n",
    "                 'Claude'])\n",
    "\n",
    "# This is the set of movies\n",
    "movies = set(['The Shawshank Redemption',\n",
    "              'Forrest Gump',\n",
    "              'The Matrix',\n",
    "              'Anaconda',\n",
    "              'The Social Network',\n",
    "              'The Godfather',\n",
    "              'Monty Python and the Holy Grail',\n",
    "              'Snakes on a Plane',\n",
    "              'Kung Fu Panda',\n",
    "              'The Dark Knight',\n",
    "              'Mean Girls'])\n",
    "\n",
    "\n",
    "# you can use the following function to plot graphs\n",
    "# make sure to comment it out before submitting to the autograder\n",
    "#def plot_graph(G, weight_name=None):\n",
    "#    '''\n",
    "#    G: a networkx G\n",
    "#    weight_name: name of the attribute for plotting edge weights (if G is weighted)\n",
    "#    '''\n",
    "#    %matplotlib notebook\n",
    "#    import matplotlib.pyplot as plt\n",
    "    \n",
    "#    plt.figure()\n",
    "#    pos = nx.spring_layout(G)\n",
    "#    edges = G.edges()\n",
    "#    weights = None\n",
    "    \n",
    "#    if weight_name:\n",
    "#        weights = [int(G[u][v][weight_name]) for u,v in edges]\n",
    "#        labels = nx.get_edge_attributes(G,weight_name)\n",
    "#        nx.draw_networkx_edge_labels(G,pos,edge_labels=labels)\n",
    "#        nx.draw_networkx(G, pos, edges=edges, width=weights);\n",
    "#    else:\n",
    "#        nx.draw_networkx(G, pos, edges=edges);\n",
    "#plot_graph()\n",
    "\n",
    "#!cat Employee_Movie_Choices.txt\n",
    "#!cat Employee_Relationships.txt"
   ]
  },
  {
   "cell_type": "markdown",
   "metadata": {},
   "source": [
    "### Question 1\n",
    "\n",
    "Using NetworkX, load in the bipartite graph from `Employee_Movie_Choices.txt` and return that graph.\n",
    "\n",
    "*This function should return a networkx graph with 19 nodes and 24 edges*"
   ]
  },
  {
   "cell_type": "code",
   "execution_count": 2,
   "metadata": {
    "scrolled": true
   },
   "outputs": [
    {
     "name": "stdout",
     "output_type": "stream",
     "text": [
      "[('Andy', 'Anaconda'), ('Andy', 'Mean Girls'), ('Andy', 'The Matrix'), ('Anaconda', 'Claude'), ('Anaconda', 'Georgia'), ('Mean Girls', 'Joan'), ('Mean Girls', 'Lee'), ('The Matrix', 'Frida'), ('The Matrix', 'Pablo'), ('Claude', 'Monty Python and the Holy Grail'), ('Claude', 'Snakes on a Plane'), ('Monty Python and the Holy Grail', 'Georgia'), ('Snakes on a Plane', 'Georgia'), ('Frida', 'The Shawshank Redemption'), ('Frida', 'The Social Network'), ('The Shawshank Redemption', 'Pablo'), ('The Shawshank Redemption', 'Vincent'), ('The Social Network', 'Vincent'), ('Joan', 'Forrest Gump'), ('Joan', 'Kung Fu Panda'), ('Forrest Gump', 'Lee'), ('Kung Fu Panda', 'Lee'), ('Pablo', 'The Dark Knight'), ('Vincent', 'The Godfather')]\n"
     ]
    },
    {
     "data": {
      "text/plain": [
       "<networkx.classes.graph.Graph at 0x7f5786cd0d30>"
      ]
     },
     "execution_count": 2,
     "metadata": {},
     "output_type": "execute_result"
    }
   ],
   "source": [
    "def answer_one():\n",
    "        \n",
    "    G=nx.read_edgelist('Employee_Movie_Choices.txt',delimiter=\"\\t\")\n",
    "    print(G.edges())\n",
    "    return G\n",
    "answer_one()"
   ]
  },
  {
   "cell_type": "markdown",
   "metadata": {},
   "source": [
    "### Question 2\n",
    "\n",
    "Using the graph from the previous question, add nodes attributes named `'type'` where movies have the value `'movie'` and employees have the value `'employee'` and return that graph.\n",
    "\n",
    "*This function should return a networkx graph with node attributes `{'type': 'movie'}` or `{'type': 'employee'}`*"
   ]
  },
  {
   "cell_type": "code",
   "execution_count": 3,
   "metadata": {},
   "outputs": [
    {
     "name": "stdout",
     "output_type": "stream",
     "text": [
      "[('Andy', {'role': 'employee'}), ('Anaconda', {'role': 'movie'}), ('Mean Girls', {'role': 'movie'}), ('The Matrix', {'role': 'movie'}), ('Claude', {'role': 'employee'}), ('Monty Python and the Holy Grail', {'role': 'movie'}), ('Snakes on a Plane', {'role': 'movie'}), ('Frida', {'role': 'employee'}), ('The Shawshank Redemption', {'role': 'movie'}), ('The Social Network', {'role': 'movie'}), ('Georgia', {'role': 'employee'}), ('Joan', {'role': 'employee'}), ('Forrest Gump', {'role': 'movie'}), ('Kung Fu Panda', {'role': 'movie'}), ('Lee', {'role': 'employee'}), ('Pablo', {'role': 'employee'}), ('The Dark Knight', {'role': 'movie'}), ('Vincent', {'role': 'employee'}), ('The Godfather', {'role': 'movie'})]\n"
     ]
    },
    {
     "data": {
      "text/plain": [
       "<networkx.classes.graph.Graph at 0x7f57443b93c8>"
      ]
     },
     "execution_count": 3,
     "metadata": {},
     "output_type": "execute_result"
    }
   ],
   "source": [
    "def answer_two():\n",
    "    G=nx.read_edgelist('Employee_Movie_Choices.txt',delimiter=\"\\t\")\n",
    "    #print(bipartite.sets(G))\n",
    "    for node in G.nodes():\n",
    "        if node in employees:\n",
    "            G.add_node(node,role='employee')\n",
    "        elif node in movies:\n",
    "            G.add_node(node,role='movie')\n",
    "    print(G.nodes(data=True))        \n",
    "    return G\n",
    "answer_two()"
   ]
  },
  {
   "cell_type": "markdown",
   "metadata": {
    "collapsed": true
   },
   "source": [
    "### Question 3\n",
    "\n",
    "Find a weighted projection of the graph from `answer_two` which tells us how many movies different pairs of employees have in common.\n",
    "\n",
    "*This function should return a weighted projected graph.*"
   ]
  },
  {
   "cell_type": "code",
   "execution_count": 4,
   "metadata": {},
   "outputs": [
    {
     "name": "stdout",
     "output_type": "stream",
     "text": [
      "[('Andy', {'role': 'employee'}), ('Anaconda', {'role': 'movie'}), ('Mean Girls', {'role': 'movie'}), ('The Matrix', {'role': 'movie'}), ('Claude', {'role': 'employee'}), ('Monty Python and the Holy Grail', {'role': 'movie'}), ('Snakes on a Plane', {'role': 'movie'}), ('Frida', {'role': 'employee'}), ('The Shawshank Redemption', {'role': 'movie'}), ('The Social Network', {'role': 'movie'}), ('Georgia', {'role': 'employee'}), ('Joan', {'role': 'employee'}), ('Forrest Gump', {'role': 'movie'}), ('Kung Fu Panda', {'role': 'movie'}), ('Lee', {'role': 'employee'}), ('Pablo', {'role': 'employee'}), ('The Dark Knight', {'role': 'movie'}), ('Vincent', {'role': 'employee'}), ('The Godfather', {'role': 'movie'})]\n",
      "[('Frida', 'Andy', {'weight': 1}), ('Frida', 'Pablo', {'weight': 2}), ('Frida', 'Vincent', {'weight': 2}), ('Joan', 'Andy', {'weight': 1}), ('Joan', 'Lee', {'weight': 3}), ('Pablo', 'Vincent', {'weight': 1}), ('Pablo', 'Andy', {'weight': 1}), ('Andy', 'Georgia', {'weight': 1}), ('Andy', 'Lee', {'weight': 1}), ('Andy', 'Claude', {'weight': 1}), ('Georgia', 'Claude', {'weight': 3})]\n"
     ]
    },
    {
     "data": {
      "text/plain": [
       "<networkx.classes.graph.Graph at 0x7f57438ccdd8>"
      ]
     },
     "execution_count": 4,
     "metadata": {},
     "output_type": "execute_result"
    }
   ],
   "source": [
    "def answer_three():\n",
    "    G=answer_two()\n",
    "    \n",
    "    G1=bipartite.weighted_projected_graph(G,employees)\n",
    "    print(G1.edges(data=True))\n",
    "    \n",
    "    return G1\n",
    "answer_three()"
   ]
  },
  {
   "cell_type": "markdown",
   "metadata": {
    "collapsed": true
   },
   "source": [
    "### Question 4\n",
    "\n",
    "Suppose you'd like to find out if people that have a high relationship score also like the same types of movies.\n",
    "\n",
    "Find the Pearson correlation ( using `DataFrame.corr()` ) between employee relationship scores and the number of movies they have in common. If two employees have no movies in common it should be treated as a 0, not a missing value, and should be included in the correlation calculation.\n",
    "\n",
    "*This function should return a float.*"
   ]
  },
  {
   "cell_type": "code",
   "execution_count": 65,
   "metadata": {},
   "outputs": [
    {
     "name": "stdout",
     "output_type": "stream",
     "text": [
      "[('Andy', {'role': 'employee'}), ('Anaconda', {'role': 'movie'}), ('Mean Girls', {'role': 'movie'}), ('The Matrix', {'role': 'movie'}), ('Claude', {'role': 'employee'}), ('Monty Python and the Holy Grail', {'role': 'movie'}), ('Snakes on a Plane', {'role': 'movie'}), ('Frida', {'role': 'employee'}), ('The Shawshank Redemption', {'role': 'movie'}), ('The Social Network', {'role': 'movie'}), ('Georgia', {'role': 'employee'}), ('Joan', {'role': 'employee'}), ('Forrest Gump', {'role': 'movie'}), ('Kung Fu Panda', {'role': 'movie'}), ('Lee', {'role': 'employee'}), ('Pablo', {'role': 'employee'}), ('The Dark Knight', {'role': 'movie'}), ('Vincent', {'role': 'employee'}), ('The Godfather', {'role': 'movie'})]\n",
      "[('Frida', 'Andy', {'weight': 1}), ('Frida', 'Pablo', {'weight': 2}), ('Frida', 'Vincent', {'weight': 2}), ('Joan', 'Andy', {'weight': 1}), ('Joan', 'Lee', {'weight': 3}), ('Pablo', 'Vincent', {'weight': 1}), ('Pablo', 'Andy', {'weight': 1}), ('Andy', 'Georgia', {'weight': 1}), ('Andy', 'Lee', {'weight': 1}), ('Andy', 'Claude', {'weight': 1}), ('Georgia', 'Claude', {'weight': 3})]\n",
      "          0        1            2_x                2_y\n",
      "0     Frida    Pablo  {'weight': 2}   {'weight': 50.0}\n",
      "1     Frida  Vincent  {'weight': 2}   {'weight': 60.0}\n",
      "2      Joan      Lee  {'weight': 3}   {'weight': 70.0}\n",
      "3     Pablo  Vincent  {'weight': 1}  {'weight': -20.0}\n",
      "4      Andy  Georgia  {'weight': 1}  {'weight': -10.0}\n",
      "5      Andy      Lee  {'weight': 1}  {'weight': -10.0}\n",
      "6      Andy   Claude  {'weight': 1}    {'weight': 0.0}\n",
      "7      Andy    Frida  {'weight': 1}   {'weight': 20.0}\n",
      "8      Andy     Joan  {'weight': 1}   {'weight': 30.0}\n",
      "9      Andy    Pablo  {'weight': 1}  {'weight': -10.0}\n",
      "10   Claude  Georgia  {'weight': 3}   {'weight': 90.0}\n",
      "11     Andy  Vincent              0   {'weight': 20.0}\n",
      "12   Claude    Frida              0    {'weight': 0.0}\n",
      "13   Claude     Joan              0    {'weight': 0.0}\n",
      "14   Claude      Lee              0    {'weight': 0.0}\n",
      "15   Claude    Pablo              0   {'weight': 10.0}\n",
      "16   Claude  Vincent              0    {'weight': 0.0}\n",
      "17    Frida  Georgia              0    {'weight': 0.0}\n",
      "18    Frida     Joan              0    {'weight': 0.0}\n",
      "19    Frida      Lee              0    {'weight': 0.0}\n",
      "20  Georgia     Joan              0    {'weight': 0.0}\n",
      "21  Georgia      Lee              0   {'weight': 10.0}\n",
      "22  Georgia    Pablo              0    {'weight': 0.0}\n",
      "23  Georgia  Vincent              0    {'weight': 0.0}\n",
      "24     Joan    Pablo              0    {'weight': 0.0}\n",
      "25     Joan  Vincent              0   {'weight': 10.0}\n",
      "26      Lee    Pablo              0    {'weight': 0.0}\n",
      "27      Lee  Vincent              0    {'weight': 0.0}\n",
      "      name1    name2  movies  relationship\n",
      "0     Frida    Pablo     2.0          50.0\n",
      "1     Frida  Vincent     2.0          60.0\n",
      "2      Joan      Lee     3.0          70.0\n",
      "3     Pablo  Vincent     1.0         -20.0\n",
      "4      Andy  Georgia     1.0         -10.0\n",
      "5      Andy      Lee     1.0         -10.0\n",
      "6      Andy   Claude     1.0           0.0\n",
      "7      Andy    Frida     1.0          20.0\n",
      "8      Andy     Joan     1.0          30.0\n",
      "9      Andy    Pablo     1.0         -10.0\n",
      "10   Claude  Georgia     3.0          90.0\n",
      "11     Andy  Vincent     0.0          20.0\n",
      "12   Claude    Frida     0.0           0.0\n",
      "13   Claude     Joan     0.0           0.0\n",
      "14   Claude      Lee     0.0           0.0\n",
      "15   Claude    Pablo     0.0          10.0\n",
      "16   Claude  Vincent     0.0           0.0\n",
      "17    Frida  Georgia     0.0           0.0\n",
      "18    Frida     Joan     0.0           0.0\n",
      "19    Frida      Lee     0.0           0.0\n",
      "20  Georgia     Joan     0.0           0.0\n",
      "21  Georgia      Lee     0.0          10.0\n",
      "22  Georgia    Pablo     0.0           0.0\n",
      "23  Georgia  Vincent     0.0           0.0\n",
      "24     Joan    Pablo     0.0           0.0\n",
      "25     Joan  Vincent     0.0          10.0\n",
      "26      Lee    Pablo     0.0           0.0\n",
      "27      Lee  Vincent     0.0           0.0\n",
      "0.788396222173\n"
     ]
    },
    {
     "data": {
      "text/plain": [
       "0.78839622217334726"
      ]
     },
     "execution_count": 65,
     "metadata": {},
     "output_type": "execute_result"
    }
   ],
   "source": [
    "def answer_four():\n",
    "        \n",
    "    G = answer_three()\n",
    "    G_relationship=nx.read_edgelist('Employee_Relationships.txt',data=[('weight',float)])\n",
    "    df1=pd.DataFrame(G.edges(data=True))\n",
    "    df1_copy=df1.rename(columns={0:1,1:0})\n",
    "    #df1=nx.to_pandas_dataframe(G,weight='weight')\n",
    "    #df2=nx.to_pandas_dataframe(G_relationship,weight='weight')\n",
    "    df2=pd.DataFrame(G_relationship.edges(data=True))\n",
    "    #df1=df1.set_index([0,1])\n",
    "    #df2=df2.set_index([0,1])\n",
    "    df1_complete=pd.concat([df1,df1_copy])\n",
    "    DF=df1_complete.merge(df2,how='right',left_on=[0,1],right_on=[0,1])\n",
    "    #DF2=df1.merge(df2,how='right',left_on=[0,1],right_on=[1,0])\n",
    "    #DF=df1.join(df2,on=[0,1])\n",
    "    #print(df1)\n",
    "    #print(df1_copy)\n",
    "    #print(df1_complete)\n",
    "    #print(df2)\n",
    "    #print(DF)\n",
    "    #print(DF2)\n",
    "    DF=DF.fillna(0)\n",
    "    print(DF)\n",
    "    DF.columns=['name1','name2','movies','relationship']\n",
    "    DF['movies'] = DF['movies'].map(lambda x: x['weight'] if type(x)==dict else None)\n",
    "    DF['relationship'] = DF['relationship'].map(lambda x: x['weight'] if type(x)==dict else None)\n",
    "    DF=DF.fillna(0)\n",
    "    #DF1=pd.Series(DF.iloc[:,2])\n",
    "    #DF2=pd.Series(DF.iloc[:,3])\n",
    "    #print(DF1)\n",
    "    #print(DF2)\n",
    "    print(DF)\n",
    "    #piece1=DF.movies.str.extract(r'(\\d)+')\n",
    "    #print(piece1)\n",
    "    #data=DF[['movies','relationship']]\n",
    "    result=DF['movies'].corr(DF['relationship'])\n",
    "    print(result)\n",
    "    return result\n",
    "answer_four()"
   ]
  },
  {
   "cell_type": "code",
   "execution_count": 96,
   "metadata": {},
   "outputs": [
    {
     "name": "stdout",
     "output_type": "stream",
     "text": [
      "[('Andy', {'role': 'employee'}), ('Anaconda', {'role': 'movie'}), ('Mean Girls', {'role': 'movie'}), ('The Matrix', {'role': 'movie'}), ('Claude', {'role': 'employee'}), ('Monty Python and the Holy Grail', {'role': 'movie'}), ('Snakes on a Plane', {'role': 'movie'}), ('Frida', {'role': 'employee'}), ('The Shawshank Redemption', {'role': 'movie'}), ('The Social Network', {'role': 'movie'}), ('Georgia', {'role': 'employee'}), ('Joan', {'role': 'employee'}), ('Forrest Gump', {'role': 'movie'}), ('Kung Fu Panda', {'role': 'movie'}), ('Lee', {'role': 'employee'}), ('Pablo', {'role': 'employee'}), ('The Dark Knight', {'role': 'movie'}), ('Vincent', {'role': 'employee'}), ('The Godfather', {'role': 'movie'})]\n",
      "[('Claude', 'Georgia', {'weight': 3}), ('Claude', 'Andy', {'weight': 1}), ('Pablo', 'Frida', {'weight': 2}), ('Pablo', 'Andy', {'weight': 1}), ('Pablo', 'Vincent', {'weight': 1}), ('Frida', 'Andy', {'weight': 1}), ('Frida', 'Vincent', {'weight': 2}), ('Lee', 'Joan', {'weight': 3}), ('Lee', 'Andy', {'weight': 1}), ('Joan', 'Andy', {'weight': 1}), ('Georgia', 'Andy', {'weight': 1})]\n",
      "3\n",
      "Empty DataFrame\n",
      "Columns: []\n",
      "Index: []\n"
     ]
    }
   ],
   "source": [
    "G = answer_three()\n",
    "G_relationship=nx.read_edgelist('Employee_Relationships.txt',data=[('weight',float)])\n",
    "print(G.edge['Claude']['Georgia']['weight'])\n",
    "df1=pd.DataFrame(G.edges('weight'))\n",
    "print(df1)"
   ]
  },
  {
   "cell_type": "code",
   "execution_count": 30,
   "metadata": {},
   "outputs": [
    {
     "ename": "NameError",
     "evalue": "name 'DF' is not defined",
     "output_type": "error",
     "traceback": [
      "\u001b[0;31m---------------------------------------------------------------------------\u001b[0m",
      "\u001b[0;31mNameError\u001b[0m                                 Traceback (most recent call last)",
      "\u001b[0;32m<ipython-input-30-bbbb45b67160>\u001b[0m in \u001b[0;36m<module>\u001b[0;34m()\u001b[0m\n\u001b[0;32m----> 1\u001b[0;31m \u001b[0mSerie1\u001b[0m\u001b[0;34m=\u001b[0m\u001b[0mpd\u001b[0m\u001b[0;34m.\u001b[0m\u001b[0mSeries\u001b[0m\u001b[0;34m(\u001b[0m\u001b[0mDF\u001b[0m\u001b[0;34m.\u001b[0m\u001b[0miloc\u001b[0m\u001b[0;34m[\u001b[0m\u001b[0;34m:\u001b[0m\u001b[0;34m,\u001b[0m\u001b[0;36m2\u001b[0m\u001b[0;34m]\u001b[0m\u001b[0;34m)\u001b[0m\u001b[0;34m\u001b[0m\u001b[0m\n\u001b[0m\u001b[1;32m      2\u001b[0m \u001b[0mSerie2\u001b[0m\u001b[0;34m=\u001b[0m\u001b[0mpd\u001b[0m\u001b[0;34m.\u001b[0m\u001b[0mSeries\u001b[0m\u001b[0;34m(\u001b[0m\u001b[0mDF\u001b[0m\u001b[0;34m.\u001b[0m\u001b[0miloc\u001b[0m\u001b[0;34m[\u001b[0m\u001b[0;34m:\u001b[0m\u001b[0;34m,\u001b[0m\u001b[0;36m3\u001b[0m\u001b[0;34m]\u001b[0m\u001b[0;34m)\u001b[0m\u001b[0;34m\u001b[0m\u001b[0m\n\u001b[1;32m      3\u001b[0m \u001b[0mprint\u001b[0m\u001b[0;34m(\u001b[0m\u001b[0mSerie1\u001b[0m\u001b[0;34m)\u001b[0m\u001b[0;34m\u001b[0m\u001b[0m\n\u001b[1;32m      4\u001b[0m \u001b[0mprint\u001b[0m\u001b[0;34m(\u001b[0m\u001b[0mSerie2\u001b[0m\u001b[0;34m)\u001b[0m\u001b[0;34m\u001b[0m\u001b[0m\n",
      "\u001b[0;31mNameError\u001b[0m: name 'DF' is not defined"
     ]
    }
   ],
   "source": [
    "\n",
    "\n",
    "\n",
    "\n"
   ]
  },
  {
   "cell_type": "code",
   "execution_count": null,
   "metadata": {
    "collapsed": true
   },
   "outputs": [],
   "source": []
  }
 ],
 "metadata": {
  "coursera": {
   "course_slug": "python-social-network-analysis",
   "graded_item_id": "YNa9b",
   "launcher_item_id": "hvNc1",
   "part_id": "VbyiB"
  },
  "kernelspec": {
   "display_name": "Python 3",
   "language": "python",
   "name": "python3"
  },
  "language_info": {
   "codemirror_mode": {
    "name": "ipython",
    "version": 3
   },
   "file_extension": ".py",
   "mimetype": "text/x-python",
   "name": "python",
   "nbconvert_exporter": "python",
   "pygments_lexer": "ipython3",
   "version": "3.6.0"
  }
 },
 "nbformat": 4,
 "nbformat_minor": 2
}
