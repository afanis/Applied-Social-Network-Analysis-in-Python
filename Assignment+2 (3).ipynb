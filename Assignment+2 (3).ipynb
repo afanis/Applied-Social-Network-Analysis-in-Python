{
 "cells": [
  {
   "cell_type": "markdown",
   "metadata": {},
   "source": [
    "---\n",
    "\n",
    "_You are currently looking at **version 1.2** of this notebook. To download notebooks and datafiles, as well as get help on Jupyter notebooks in the Coursera platform, visit the [Jupyter Notebook FAQ](https://www.coursera.org/learn/python-social-network-analysis/resources/yPcBs) course resource._\n",
    "\n",
    "---"
   ]
  },
  {
   "cell_type": "markdown",
   "metadata": {},
   "source": [
    "# Assignment 2 - Network Connectivity\n",
    "\n",
    "In this assignment you will go through the process of importing and analyzing an internal email communication network between employees of a mid-sized manufacturing company. \n",
    "Each node represents an employee and each directed edge between two nodes represents an individual email. The left node represents the sender and the right node represents the recipient."
   ]
  },
  {
   "cell_type": "code",
   "execution_count": 2,
   "metadata": {
    "collapsed": true
   },
   "outputs": [],
   "source": [
    "import networkx as nx\n",
    "\n",
    "# This line must be commented out when submitting to the autograder\n",
    "#!head email_network.txt"
   ]
  },
  {
   "cell_type": "markdown",
   "metadata": {},
   "source": [
    "### Question 1\n",
    "\n",
    "Using networkx, load up the directed multigraph from `email_network.txt`. Make sure the node names are strings.\n",
    "\n",
    "*This function should return a directed multigraph networkx graph.*"
   ]
  },
  {
   "cell_type": "code",
   "execution_count": 3,
   "metadata": {},
   "outputs": [
    {
     "data": {
      "text/plain": [
       "<networkx.classes.multidigraph.MultiDiGraph at 0x7f150fe33dd8>"
      ]
     },
     "execution_count": 3,
     "metadata": {},
     "output_type": "execute_result"
    }
   ],
   "source": [
    "def answer_one():\n",
    "    G=nx.read_edgelist('email_network.txt',delimiter='\\t',data=[('timestamp', int)],nodetype=str,create_using=nx.MultiDiGraph())\n",
    "    #print(G)\n",
    "    #print(G.edges())\n",
    "    return G\n",
    "answer_one()"
   ]
  },
  {
   "cell_type": "markdown",
   "metadata": {},
   "source": [
    "### Question 2\n",
    "\n",
    "How many employees and emails are represented in the graph from Question 1?\n",
    "\n",
    "*This function should return a tuple (#employees, #emails).*"
   ]
  },
  {
   "cell_type": "code",
   "execution_count": 4,
   "metadata": {},
   "outputs": [
    {
     "name": "stdout",
     "output_type": "stream",
     "text": [
      "['1', '2', '3', '4', '5', '6', '7', '8', '9', '10', '11', '12', '13', '14', '15', '16', '17', '18', '19', '20', '21', '22', '23', '24', '25', '26', '27', '28', '29', '30', '31', '32', '33', '34', '35', '36', '37', '38', '39', '40', '41', '42', '43', '44', '45', '46', '47', '48', '49', '50', '51', '52', '53', '54', '55', '56', '57', '58', '59', '60', '61', '62', '63', '64', '65', '66', '67', '68', '69', '70', '71', '72', '73', '74', '75', '76', '77', '78', '79', '80', '81', '82', '83', '84', '85', '86', '87', '88', '89', '90', '91', '92', '93', '94', '95', '96', '97', '98', '99', '100', '101', '102', '103', '104', '105', '106', '107', '108', '109', '110', '111', '112', '113', '114', '115', '116', '117', '118', '119', '120', '121', '122', '123', '124', '125', '126', '127', '128', '129', '130', '131', '132', '133', '134', '135', '136', '137', '138', '139', '140', '141', '142', '143', '144', '145', '146', '147', '148', '149', '150', '151', '152', '153', '154', '155', '156', '157', '158', '159', '160', '161', '162', '163', '164', '165', '166', '167']\n"
     ]
    },
    {
     "data": {
      "text/plain": [
       "[167, 82927]"
      ]
     },
     "execution_count": 4,
     "metadata": {},
     "output_type": "execute_result"
    }
   ],
   "source": [
    "def answer_two():\n",
    "    G=answer_one()\n",
    "    print(G.nodes())\n",
    "    result=[]\n",
    "    a=len(G.nodes())\n",
    "    b=len(G.edges())\n",
    "    result.append(a)\n",
    "    result.append(b)\n",
    "    return result\n",
    "answer_two()"
   ]
  },
  {
   "cell_type": "markdown",
   "metadata": {},
   "source": [
    "### Question 3\n",
    "\n",
    "* Part 1. Assume that information in this company can only be exchanged through email.\n",
    "\n",
    "    When an employee sends an email to another employee, a communication channel has been created, allowing the sender to provide information to the receiver, but not vice versa. \n",
    "\n",
    "    Based on the emails sent in the data, is it possible for information to go from every employee to every other employee?\n",
    "\n",
    "\n",
    "* Part 2. Now assume that a communication channel established by an email allows information to be exchanged both ways. \n",
    "\n",
    "    Based on the emails sent in the data, is it possible for information to go from every employee to every other employee?\n",
    "\n",
    "\n",
    "*This function should return a tuple of bools (part1, part2).*"
   ]
  },
  {
   "cell_type": "code",
   "execution_count": 5,
   "metadata": {},
   "outputs": [
    {
     "data": {
      "text/plain": [
       "[False, True]"
      ]
     },
     "execution_count": 5,
     "metadata": {},
     "output_type": "execute_result"
    }
   ],
   "source": [
    "def answer_three():\n",
    "        \n",
    "    G=answer_one()\n",
    "    #nx.is_strongly_connected(G)\n",
    "    \n",
    "    return [nx.is_strongly_connected(G),nx.is_weakly_connected(G)]\n",
    "answer_three()"
   ]
  },
  {
   "cell_type": "markdown",
   "metadata": {},
   "source": [
    "### Question 4\n",
    "\n",
    "How many nodes are in the largest (in terms of nodes) weakly connected component?\n",
    "\n",
    "*This function should return an int.*"
   ]
  },
  {
   "cell_type": "code",
   "execution_count": 6,
   "metadata": {
    "scrolled": true
   },
   "outputs": [
    {
     "name": "stdout",
     "output_type": "stream",
     "text": [
      "[{'165', '160', '55', '91', '20', '75', '161', '89', '58', '27', '34', '122', '82', '51', '145', '126', '127', '72', '60', '131', '47', '44', '9', '147', '119', '135', '21', '49', '86', '2', '133', '7', '17', '16', '103', '88', '118', '42', '141', '107', '137', '36', '87', '148', '162', '120', '18', '143', '159', '98', '52', '155', '31', '102', '80', '132', '92', '157', '109', '166', '24', '116', '6', '151', '73', '138', '110', '140', '81', '39', '38', '158', '15', '68', '154', '35', '50', '71', '139', '32', '150', '84', '30', '129', '146', '13', '4', '14', '78', '99', '70', '95', '164', '67', '94', '23', '142', '48', '11', '106', '124', '53', '66', '125', '104', '156', '152', '77', '96', '61', '10', '29', '108', '59', '40', '153', '115', '57', '26', '54', '5', '64', '8', '22', '134', '111', '101', '46', '112', '93', '76', '90', '74', '83', '28', '12', '128', '123', '69', '3', '85', '62', '45', '37', '1', '121', '144', '41', '65', '117', '163', '19', '149', '25', '167', '114', '130', '100', '113', '136', '43', '105', '33', '97', '79', '63', '56'}]\n"
     ]
    },
    {
     "data": {
      "text/plain": [
       "167"
      ]
     },
     "execution_count": 6,
     "metadata": {},
     "output_type": "execute_result"
    }
   ],
   "source": [
    "def answer_four():\n",
    "        \n",
    "    G=answer_one()\n",
    "    a=sorted(nx.weakly_connected_components(G))\n",
    "    print(a)\n",
    "    \n",
    "    maxlength=0\n",
    "    for i in range(0,len(a)):\n",
    "        if len(a[i])>=maxlength:\n",
    "            maxlength=len(a[i])\n",
    "            \n",
    "    \n",
    "    return maxlength\n",
    "answer_four()"
   ]
  },
  {
   "cell_type": "markdown",
   "metadata": {},
   "source": [
    "### Question 5\n",
    "\n",
    "How many nodes are in the largest (in terms of nodes) strongly connected component?\n",
    "\n",
    "*This function should return an int*"
   ]
  },
  {
   "cell_type": "code",
   "execution_count": 7,
   "metadata": {},
   "outputs": [
    {
     "name": "stdout",
     "output_type": "stream",
     "text": [
      "[{'116'}, {'130'}, {'133'}, {'125'}, {'102'}, {'126'}, {'136'}, {'114'}, {'127'}, {'131'}, {'132'}, {'135'}, {'166'}, {'55', '91', '20', '75', '89', '58', '27', '34', '122', '82', '51', '72', '60', '47', '44', '9', '119', '21', '49', '86', '2', '7', '17', '88', '42', '103', '16', '118', '107', '36', '87', '120', '18', '52', '98', '31', '80', '92', '109', '24', '6', '151', '73', '110', '81', '39', '38', '15', '68', '71', '50', '35', '32', '84', '30', '129', '13', '4', '14', '78', '99', '70', '95', '67', '94', '23', '48', '11', '106', '124', '53', '66', '104', '77', '96', '61', '10', '29', '108', '40', '59', '115', '57', '54', '26', '5', '64', '8', '22', '134', '111', '101', '46', '112', '93', '76', '90', '74', '83', '12', '28', '128', '123', '69', '3', '62', '85', '45', '37', '1', '121', '41', '65', '117', '19', '149', '25', '100', '113', '43', '105', '33', '97', '79', '63', '56'}, {'137'}, {'138'}, {'139'}, {'140'}, {'141'}, {'142'}, {'143'}, {'144'}, {'145'}, {'146'}, {'147'}, {'148'}, {'150'}, {'152'}, {'153'}, {'154'}, {'155'}, {'156'}, {'157'}, {'158'}, {'159'}, {'160'}, {'161'}, {'162'}, {'163'}, {'164'}, {'165'}, {'167'}]\n"
     ]
    },
    {
     "data": {
      "text/plain": [
       "126"
      ]
     },
     "execution_count": 7,
     "metadata": {},
     "output_type": "execute_result"
    }
   ],
   "source": [
    "def answer_five():\n",
    "        \n",
    "    G=answer_one()\n",
    "    a=sorted(nx.strongly_connected_components(G))\n",
    "    print(a)\n",
    "    \n",
    "    maxlength=0\n",
    "    for i in range(0,len(a)):\n",
    "        if len(a[i])>=maxlength:\n",
    "            maxlength=len(a[i])\n",
    "            \n",
    "    \n",
    "    \n",
    "    return maxlength\n",
    "answer_five()"
   ]
  },
  {
   "cell_type": "markdown",
   "metadata": {},
   "source": [
    "### Question 6\n",
    "\n",
    "Using the NetworkX function strongly_connected_component_subgraphs, find the subgraph of nodes in a largest strongly connected component. \n",
    "Call this graph G_sc.\n",
    "\n",
    "*This function should return a networkx MultiDiGraph named G_sc.*"
   ]
  },
  {
   "cell_type": "code",
   "execution_count": 8,
   "metadata": {},
   "outputs": [
    {
     "data": {
      "text/plain": [
       "<networkx.classes.multidigraph.MultiDiGraph at 0x7f150cfc39e8>"
      ]
     },
     "execution_count": 8,
     "metadata": {},
     "output_type": "execute_result"
    }
   ],
   "source": [
    "def answer_six():\n",
    "        \n",
    "    G=answer_one()\n",
    "    a=max(nx.strongly_connected_component_subgraphs(G,copy=True),key=len)\n",
    "    #print(a.edges())\n",
    "    G_sc=a\n",
    "        \n",
    "    \n",
    "    return G_sc\n",
    "answer_six()"
   ]
  },
  {
   "cell_type": "markdown",
   "metadata": {},
   "source": [
    "### Question 7\n",
    "\n",
    "What is the average distance between nodes in G_sc?\n",
    "\n",
    "*This function should return a float.*"
   ]
  },
  {
   "cell_type": "code",
   "execution_count": 9,
   "metadata": {},
   "outputs": [
    {
     "data": {
      "text/plain": [
       "1.6461587301587302"
      ]
     },
     "execution_count": 9,
     "metadata": {},
     "output_type": "execute_result"
    }
   ],
   "source": [
    "def answer_seven():\n",
    "    a=answer_six()   \n",
    "    l=nx.average_shortest_path_length(a)\n",
    "    \n",
    "    return l\n",
    "answer_seven()"
   ]
  },
  {
   "cell_type": "markdown",
   "metadata": {},
   "source": [
    "### Question 8\n",
    "\n",
    "What is the largest possible distance between two employees in G_sc?\n",
    "\n",
    "*This function should return an int.*"
   ]
  },
  {
   "cell_type": "code",
   "execution_count": 10,
   "metadata": {},
   "outputs": [
    {
     "data": {
      "text/plain": [
       "3"
      ]
     },
     "execution_count": 10,
     "metadata": {},
     "output_type": "execute_result"
    }
   ],
   "source": [
    "def answer_eight():\n",
    "    a=answer_six() \n",
    "    l=nx.diameter(a)\n",
    "    \n",
    "    return l\n",
    "answer_eight()"
   ]
  },
  {
   "cell_type": "markdown",
   "metadata": {},
   "source": [
    "### Question 9\n",
    "\n",
    "What is the set of nodes in G_sc with eccentricity equal to the diameter?\n",
    "\n",
    "*This function should return a set of the node(s).*"
   ]
  },
  {
   "cell_type": "code",
   "execution_count": 11,
   "metadata": {},
   "outputs": [
    {
     "data": {
      "text/plain": [
       "{'129', '134', '97'}"
      ]
     },
     "execution_count": 11,
     "metadata": {},
     "output_type": "execute_result"
    }
   ],
   "source": [
    "def answer_nine():\n",
    "       \n",
    "    a=answer_six()\n",
    "    p=nx.periphery(a)\n",
    "    \n",
    "    return set(p)\n",
    "answer_nine()"
   ]
  },
  {
   "cell_type": "markdown",
   "metadata": {},
   "source": [
    "### Question 10\n",
    "\n",
    "What is the set of node(s) in G_sc with eccentricity equal to the radius?\n",
    "\n",
    "*This function should return a set of the node(s).*"
   ]
  },
  {
   "cell_type": "code",
   "execution_count": 12,
   "metadata": {},
   "outputs": [
    {
     "data": {
      "text/plain": [
       "{'38'}"
      ]
     },
     "execution_count": 12,
     "metadata": {},
     "output_type": "execute_result"
    }
   ],
   "source": [
    "def answer_ten():\n",
    "        \n",
    "    a=answer_six()\n",
    "    p=nx.center(a)\n",
    "    \n",
    "    return set(p)\n",
    "answer_ten()"
   ]
  },
  {
   "cell_type": "markdown",
   "metadata": {},
   "source": [
    "### Question 11\n",
    "\n",
    "Which node in G_sc is connected to the most other nodes by a shortest path of length equal to the diameter of G_sc?\n",
    "\n",
    "How many nodes are connected to this node?\n",
    "\n",
    "\n",
    "*This function should return a tuple (name of node, number of satisfied connected nodes).*"
   ]
  },
  {
   "cell_type": "code",
   "execution_count": 33,
   "metadata": {},
   "outputs": [
    {
     "data": {
      "text/plain": [
       "['97', 63]"
      ]
     },
     "execution_count": 33,
     "metadata": {},
     "output_type": "execute_result"
    }
   ],
   "source": [
    "def answer_eleven():\n",
    "        \n",
    "    G_sc=answer_six()\n",
    "    l=nx.diameter(G_sc)\n",
    "    maxnumber=0\n",
    "    index_max_node=0\n",
    "    #print(l)\n",
    "    for node1 in nx.periphery(G_sc):\n",
    "        #print(node1)\n",
    "        i=0\n",
    "        for node2 in G_sc:\n",
    "            #print(nx.shortest_path_length(G_sc,node1,node2))\n",
    "            if nx.shortest_path_length(G_sc,node1,node2)==l:\n",
    "                i=i+1\n",
    "        #print(i)\n",
    "        if i>= maxnumber:\n",
    "            index_max_node=node1\n",
    "            maxnumber=i\n",
    "            \n",
    "    #print(index_max_node)        \n",
    "    #number_nodes=len(G_sc.neighbors(index_max_node))    \n",
    "    #print(maxnumber)            \n",
    "    \n",
    "    return [index_max_node,maxnumber]\n",
    "answer_eleven()"
   ]
  },
  {
   "cell_type": "markdown",
   "metadata": {},
   "source": [
    "### Question 12\n",
    "\n",
    "Suppose you want to prevent communication from flowing to the node that you found in the previous question from any node in the center of G_sc, what is the smallest number of nodes you would need to remove from the graph (you're not allowed to remove the node from the previous question or the center nodes)? \n",
    "\n",
    "*This function should return an integer.*"
   ]
  },
  {
   "cell_type": "code",
   "execution_count": 45,
   "metadata": {},
   "outputs": [
    {
     "name": "stdout",
     "output_type": "stream",
     "text": [
      "{'45', '37', '46', '32', '14'}\n",
      "6\n"
     ]
    },
    {
     "data": {
      "text/plain": [
       "5"
      ]
     },
     "execution_count": 45,
     "metadata": {},
     "output_type": "execute_result"
    }
   ],
   "source": [
    "def answer_twelve():\n",
    "        \n",
    "    G_sc=answer_six()\n",
    "    index_max_node=answer_eleven()[0]\n",
    "    \n",
    "    minimum_number=len(G_sc.nodes())\n",
    "    \n",
    "    \n",
    "    center=nx.center(G_sc)\n",
    "    for i in range(0,len(center)):\n",
    "        print(nx.minimum_node_cut(G_sc,center[i],index_max_node))\n",
    "        print(nx.node_connectivity(G_sc,center[i],index_max_node))\n",
    "        if len(nx.minimum_node_cut(G_sc,center[i],index_max_node))<= minimum_number:\n",
    "            minimum_number=len(nx.minimum_node_cut(G_sc,center[i],index_max_node))\n",
    "        \n",
    "    result=minimum_number\n",
    "    \n",
    "    return result\n",
    "answer_twelve()"
   ]
  },
  {
   "cell_type": "markdown",
   "metadata": {},
   "source": [
    "### Question 13\n",
    "\n",
    "Construct an undirected graph G_un using G_sc (you can ignore the attributes).\n",
    "\n",
    "*This function should return a networkx Graph.*"
   ]
  },
  {
   "cell_type": "code",
   "execution_count": 50,
   "metadata": {},
   "outputs": [
    {
     "data": {
      "text/plain": [
       "<networkx.classes.graph.Graph at 0x7f150ce652b0>"
      ]
     },
     "execution_count": 50,
     "metadata": {},
     "output_type": "execute_result"
    }
   ],
   "source": [
    "def answer_thirteen():\n",
    "        \n",
    "    G_sc=answer_six()\n",
    "    G_un=G_sc.to_undirected()\n",
    "    \n",
    "    G_un=nx.Graph(G_un)\n",
    "    return G_un\n",
    "answer_thirteen()"
   ]
  },
  {
   "cell_type": "markdown",
   "metadata": {},
   "source": [
    "### Question 14\n",
    "\n",
    "What is the transitivity and average clustering coefficient of graph G_un?\n",
    "\n",
    "*This function should return a tuple (transitivity, avg clustering).*"
   ]
  },
  {
   "cell_type": "code",
   "execution_count": 51,
   "metadata": {},
   "outputs": [
    {
     "data": {
      "text/plain": [
       "[0.570111160700385, 0.697527243723142]"
      ]
     },
     "execution_count": 51,
     "metadata": {},
     "output_type": "execute_result"
    }
   ],
   "source": [
    "def answer_fourteen():\n",
    "    G_un=answer_thirteen()\n",
    "    \n",
    "    \n",
    "    \n",
    "    return [nx.transitivity(G_un),nx.average_clustering(G_un)]\n",
    "answer_fourteen()"
   ]
  },
  {
   "cell_type": "code",
   "execution_count": null,
   "metadata": {
    "collapsed": true
   },
   "outputs": [],
   "source": []
  }
 ],
 "metadata": {
  "coursera": {
   "course_slug": "python-social-network-analysis",
   "graded_item_id": "jMCHR",
   "launcher_item_id": "7RsKp",
   "part_id": "E9gn5"
  },
  "kernelspec": {
   "display_name": "Python 3",
   "language": "python",
   "name": "python3"
  },
  "language_info": {
   "codemirror_mode": {
    "name": "ipython",
    "version": 3
   },
   "file_extension": ".py",
   "mimetype": "text/x-python",
   "name": "python",
   "nbconvert_exporter": "python",
   "pygments_lexer": "ipython3",
   "version": "3.6.0"
  }
 },
 "nbformat": 4,
 "nbformat_minor": 2
}
